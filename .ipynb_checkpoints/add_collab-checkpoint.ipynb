{
 "metadata": {
  "name": ""
 },
 "nbformat": 3,
 "nbformat_minor": 0,
 "worksheets": [
  {
   "cells": [
    {
     "cell_type": "code",
     "collapsed": false,
     "input": [
      "import requests\n",
      "\n",
      "user_repo = {\"ameena12-meet\": \"MEET-YL2\"}\n",
      "for u in user_repo:\n",
      "    username = u\n",
      "    repo = user_repo[u]\n",
      "    passwd=\"\"\n",
      "    if repo == \"MEET-YL1\":\n",
      "        passwd = \"meetyear13\"\n",
      "    else: \n",
      "        passwd = \"meetyear2\"\n",
      "    r = requests.put('https://api.github.com/repos/' + username + '/' + repo + '/collaborators/mprat', auth=(username, passwd))\n",
      "    print r.headers"
     ],
     "language": "python",
     "metadata": {},
     "outputs": [
      {
       "output_type": "stream",
       "stream": "stdout",
       "text": [
        "CaseInsensitiveDict({'status': '204 No Content', 'x-ratelimit-remaining': '4999', 'x-github-media-type': 'github.beta', 'x-content-type-options': 'nosniff', 'access-control-expose-headers': 'ETag, Link, X-RateLimit-Limit, X-RateLimit-Remaining, X-RateLimit-Reset, X-OAuth-Scopes, X-Accepted-OAuth-Scopes, X-Poll-Interval', 'x-github-request-id': '50B2914C:7396:1193597:529F02C3', 'vary': 'Accept-Encoding', 'server': 'GitHub.com', 'x-ratelimit-limit': '5000', 'access-control-allow-credentials': 'true', 'date': 'Wed, 04 Dec 2013 10:24:04 GMT', 'access-control-allow-origin': '*', 'x-ratelimit-reset': '1386156244'})\n"
       ]
      }
     ],
     "prompt_number": 16
    }
   ],
   "metadata": {}
  }
 ]
}