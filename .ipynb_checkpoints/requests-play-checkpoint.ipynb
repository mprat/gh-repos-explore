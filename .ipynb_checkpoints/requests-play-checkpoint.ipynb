{
 "metadata": {
  "name": ""
 },
 "nbformat": 3,
 "nbformat_minor": 0,
 "worksheets": [
  {
   "cells": [
    {
     "cell_type": "code",
     "collapsed": false,
     "input": [
      "import requests, json, github, time, itertools\n",
      "from requests.auth import HTTPBasicAuth"
     ],
     "language": "python",
     "metadata": {},
     "outputs": [
      {
       "output_type": "stream",
       "stream": "stdout",
       "text": [
        "Using matplotlib backend: module://IPython.kernel.zmq.pylab.backend_inline\n"
       ]
      }
     ],
     "prompt_number": 1
    },
    {
     "cell_type": "markdown",
     "metadata": {},
     "source": [
      "* list of desired users to monitor\n",
      "* specify a repository name to monitor\n",
      "* see list of commits from the user (and see what lines were updated in that file, but see the entire file) [http://developer.github.com/v3/repos/commits/#list-commits-on-a-repository]\n",
      "* comment on said commit from user, right in the FILE rather than in the commit?"
     ]
    },
    {
     "cell_type": "markdown",
     "metadata": {},
     "source": [
      "Features list: \n",
      "\n",
      "* automatically star repositories?\n",
      "* see a list of commits from users (or at the very least see that a particular user committed)\n",
      "* send same comment to all users?\n",
      "* sent all users template code\n",
      "* groups of users (for different assignments / classes / whatever)"
     ]
    },
    {
     "cell_type": "code",
     "collapsed": false,
     "input": [
      "custom_headers = {'User-Agent': 'mprat'}\n",
      "r = requests.get(\"https://api.github.com/repositories\", headers=custom_headers)\n",
      "json = r.json()\n",
      "r.headers"
     ],
     "language": "python",
     "metadata": {},
     "outputs": [],
     "prompt_number": 2
    },
    {
     "cell_type": "code",
     "collapsed": false,
     "input": [
      "# json_return = r.json()\n",
      "# for repo in json_return:\n",
      "#     commit_count_params = {'full_name': repo[u'full_name']}\n",
      "#     commit_count_request = requests.get(\"https://api.github.com/repos/\" + commit_count_params['full_name'])\n",
      "#     rating = commit_count_request.json()['watchers_count'] + commit_count_request.json()['forks_count'] - commit_count_request.json()['open_issues']/ 5\n",
      "#     #need to make this binary insert into\n",
      "#     id_rank[commit_count_params['full_name']] = rating"
     ],
     "language": "python",
     "metadata": {},
     "outputs": [],
     "prompt_number": 1
    },
    {
     "cell_type": "code",
     "collapsed": false,
     "input": [
      "def write_to_file(contents, filename):\n",
      "    with open(filename + \".txt\", 'a') as f:\n",
      "        f.write(contents + \"\\n\")\n",
      "\n",
      "# write_to_file(\"test\", \"one\")\n",
      "# write_to_file(\"test2\", \"one\")"
     ],
     "language": "python",
     "metadata": {},
     "outputs": [],
     "prompt_number": 4
    },
    {
     "cell_type": "code",
     "collapsed": false,
     "input": [
      "g = github.Github(\"fdc3f237a674e40ac8c3af9944424c5432243262\")\n",
      "allrepos = g.get_repos()"
     ],
     "language": "python",
     "metadata": {},
     "outputs": [],
     "prompt_number": 5
    },
    {
     "cell_type": "code",
     "collapsed": false,
     "input": [
      "file_to_write_to = \"\""
     ],
     "language": "python",
     "metadata": {},
     "outputs": [],
     "prompt_number": 7
    }
   ],
   "metadata": {}
  }
 ]
}